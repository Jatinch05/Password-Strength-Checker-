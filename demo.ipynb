{
 "cells": [
  {
   "cell_type": "code",
   "execution_count": 3,
   "metadata": {},
   "outputs": [
    {
     "name": "stdout",
     "output_type": "stream",
     "text": [
      "<class 'pandas.core.frame.DataFrame'>\n",
      "RangeIndex: 669639 entries, 0 to 669638\n",
      "Data columns (total 2 columns):\n",
      " #   Column    Non-Null Count   Dtype \n",
      "---  ------    --------------   ----- \n",
      " 0   password  669638 non-null  object\n",
      " 1   strength  669639 non-null  int64 \n",
      "dtypes: int64(1), object(1)\n",
      "memory usage: 10.2+ MB\n",
      "        password length\n",
      "0                     8\n",
      "1                     8\n",
      "2                     9\n",
      "3                     8\n",
      "4                    11\n",
      "...                 ...\n",
      "669634               10\n",
      "669635                9\n",
      "669636               12\n",
      "669637                9\n",
      "669638                8\n",
      "\n",
      "[669638 rows x 1 columns]\n",
      "Accuracy 1.0\n"
     ]
    }
   ],
   "source": [
    "import pandas as pd\n",
    "import numpy as np\n",
    "import math\n",
    "import re\n",
    "import nltk\n",
    "from nltk.corpus import words\n",
    "from collections import Counter\n",
    "from functools import lru_cache\n",
    "import matplotlib.pyplot as plt\n",
    "import seaborn as sns\n",
    "import warnings \n",
    "warnings.filterwarnings('ignore')\n",
    "\n",
    "# %%\n",
    "\n",
    "df = pd.read_csv('data.csv',on_bad_lines='skip')\n",
    "\n",
    "# %%\n",
    "df.head()\n",
    "\n",
    "# %%\n",
    "df.info()\n",
    "\n",
    "# %%\n",
    "df.drop_duplicates(inplace=True)\n",
    "df.dropna(inplace=True)\n",
    "\n",
    "# %% [markdown]\n",
    "# # Feature Engineering #\n",
    "\n",
    "# %%\n",
    "# Function to calculate password length\n",
    "def password_length(password):\n",
    "    return len(password)\n",
    "\n",
    "df['password length']  = df['password'].apply(password_length)\n",
    "X = df.drop(columns=['password','strength'])\n",
    "y = df['strength']\n",
    "\n",
    "# %%\n",
    "print(X)\n",
    "\n",
    "# %%\n",
    "from sklearn.linear_model import LogisticRegression\n",
    "from sklearn.model_selection import train_test_split\n",
    "from sklearn.metrics import classification_report\n",
    "\n",
    "X_train, X_test, y_train, y_test = train_test_split(X, y, test_size=0.4, random_state=42)\n",
    "\n",
    "# Multinomial Logistic Regression\n",
    "model = LogisticRegression(multi_class='multinomial', solver='lbfgs', max_iter=1000)\n",
    "model.fit(X_train, y_train)\n",
    "\n",
    "# Predictions\n",
    "y_pred = model.predict(X_test)\n",
    "\n",
    "# Evaluation\n",
    "from sklearn.metrics import accuracy_score\n",
    "\n",
    "print(f'Accuracy {accuracy_score(y_test,y_pred)}')\n"
   ]
  },
  {
   "cell_type": "code",
   "execution_count": 2,
   "metadata": {},
   "outputs": [
    {
     "name": "stdout",
     "output_type": "stream",
     "text": [
      "Training Accuracy: 1.00\n",
      "Testing Accuracy: 1.00\n"
     ]
    }
   ],
   "source": [
    "train_accuracy = model.score(X_train, y_train)\n",
    "print(f\"Training Accuracy: {train_accuracy:.2f}\")\n",
    "\n",
    "# Evaluate on testing set\n",
    "test_accuracy = model.score(X_test, y_test)\n",
    "print(f\"Testing Accuracy: {test_accuracy:.2f}\")"
   ]
  },
  {
   "cell_type": "code",
   "execution_count": null,
   "metadata": {},
   "outputs": [],
   "source": []
  }
 ],
 "metadata": {
  "kernelspec": {
   "display_name": "venv",
   "language": "python",
   "name": "python3"
  },
  "language_info": {
   "codemirror_mode": {
    "name": "ipython",
    "version": 3
   },
   "file_extension": ".py",
   "mimetype": "text/x-python",
   "name": "python",
   "nbconvert_exporter": "python",
   "pygments_lexer": "ipython3",
   "version": "3.12.2"
  }
 },
 "nbformat": 4,
 "nbformat_minor": 2
}
